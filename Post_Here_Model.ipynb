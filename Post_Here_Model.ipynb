{
  "nbformat": 4,
  "nbformat_minor": 0,
  "metadata": {
    "colab": {
      "name": "Post Here Model.ipynb",
      "provenance": []
    },
    "kernelspec": {
      "name": "python3",
      "display_name": "Python 3"
    }
  },
  "cells": [
    {
      "cell_type": "code",
      "metadata": {
        "id": "Q-Ujyg-LbPfM",
        "colab_type": "code",
        "colab": {}
      },
      "source": [
        "import pandas as pd\n",
        "from sklearn.feature_extraction.text import TfidfVectorizer\n",
        "from sklearn.neighbors import NearestNeighbors\n",
        "\n",
        "\n",
        "def imposter_syndrome_model(string):\n",
        "    df = pd.read_csv('post_here.csv')\n",
        "    exp_list = df.drop(columns=['subreddit']).astype(str).values.tolist()\n",
        "\n",
        "    subreddit_list = df.subreddit.values.tolist()\n",
        "\n",
        "    multisub_string = []\n",
        "    for i in range(len(exp_list)):\n",
        "        multisub_string.append(' '.join(exp_list[i]))\n",
        "\n",
        "    vectorizer = TfidfVectorizer(stop_words='english', strip_accents='ascii')\n",
        "    dtm = vectorizer.fit_transform(multisub_string)\n",
        "\n",
        "    model = NearestNeighbors(n_neighbors=1, algorithm='brute')\n",
        "    model.fit(dtm)\n",
        "\n",
        "    text = vectorizer.transform([string])\n",
        "    \n",
        "    prediction = model.kneighbors(text, return_distance=False)\n",
        "    print(subreddit_list[prediction[0][0]])"
      ],
      "execution_count": 0,
      "outputs": []
    },
    {
      "cell_type": "code",
      "metadata": {
        "id": "hg9vuxYibVtg",
        "colab_type": "code",
        "colab": {
          "base_uri": "https://localhost:8080/",
          "height": 34
        },
        "outputId": "25665750-6e93-4c53-cc1e-e53431e9770b"
      },
      "source": [
        "imposter_syndrome_model('The Brita water bottle is the best water bottle ever made.')"
      ],
      "execution_count": 2,
      "outputs": [
        {
          "output_type": "stream",
          "text": [
            "HydroHomies\n"
          ],
          "name": "stdout"
        }
      ]
    }
  ]
}